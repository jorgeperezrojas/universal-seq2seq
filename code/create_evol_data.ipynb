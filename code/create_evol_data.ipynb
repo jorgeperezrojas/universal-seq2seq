{
 "cells": [
  {
   "cell_type": "code",
   "execution_count": 76,
   "metadata": {},
   "outputs": [],
   "source": [
    "import numpy as np\n",
    "import utils\n",
    "from itertools import product\n",
    "import sys"
   ]
  },
  {
   "cell_type": "code",
   "execution_count": 77,
   "metadata": {},
   "outputs": [],
   "source": [
    "A = np.loadtxt('../data/evol_06.txt', dtype=int)\n",
    "SL = []\n",
    "ant_i = 0\n",
    "for i in range(6,len(A)+1,6):\n",
    "    SL.append(A[ant_i:i,:])\n",
    "    ant_i = i\n",
    "#utils.mostrar_evol([l.T for l in L])"
   ]
  },
  {
   "cell_type": "code",
   "execution_count": 78,
   "metadata": {},
   "outputs": [],
   "source": [
    "B = np.loadtxt('../data/evol_06.txt', dtype=int)\n",
    "CL = []\n",
    "ant_i = 0\n",
    "for i in range(6,len(A)+1,6):\n",
    "    CL.append(np.clip(B[ant_i:i,:],0,1))\n",
    "    ant_i = i"
   ]
  },
  {
   "cell_type": "code",
   "execution_count": 79,
   "metadata": {
    "collapsed": true
   },
   "outputs": [],
   "source": [
    "def check(SL,CL,U,b1,b2):\n",
    "    for i in range(len(SL)-1):\n",
    "        change_map = utils.change_map(SL[i],U,b1,b2)\n",
    "        if not (change_map == CL[i+1]).all():\n",
    "            return False\n",
    "    return True"
   ]
  },
  {
   "cell_type": "code",
   "execution_count": 82,
   "metadata": {},
   "outputs": [],
   "source": [
    "options = product(range(-2,3),repeat=11)"
   ]
  },
  {
   "cell_type": "code",
   "execution_count": 83,
   "metadata": {
    "collapsed": true
   },
   "outputs": [],
   "source": [
    "YL = []"
   ]
  },
  {
   "cell_type": "code",
   "execution_count": null,
   "metadata": {},
   "outputs": [
    {
     "name": "stdout",
     "output_type": "stream",
     "text": [
      "[[-2 -2 -1]\n",
      " [-2 -1  2]\n",
      " [ 0 -1  1]]\n",
      "[[-2 -2 -1]\n",
      " [-2  0  0]\n",
      " [ 1 -1  1]]\n",
      "[[-2 -2 -1]\n",
      " [-2  1 -2]\n",
      " [ 2 -1  1]]\n",
      "[[-2 -2 -1]\n",
      " [-2  1  2]\n",
      " [-2 -1  1]]\n",
      "[[-2 -2 -1]\n",
      " [-2  2  0]\n",
      " [-1 -1  1]]\n",
      "[[-2 -2 -1]\n",
      " [-1 -2 -2]\n",
      " [ 0 -1  1]]\n",
      "[[-2 -2 -1]\n",
      " [-1 -2  1]\n",
      " [ 1 -1  1]]\n",
      "[[-2 -2 -1]\n",
      " [-1 -1 -1]\n",
      " [ 2 -1  1]]\n",
      "[[-2 -2 -1]\n",
      " [-1  0 -2]\n",
      " [-2 -1  1]]\n"
     ]
    }
   ],
   "source": [
    "for i,D in enumerate(options):\n",
    "    if i % 10000 == 0:\n",
    "        # sys.stdout.write(str(len(YL))+' so far ('+str(i)+'/50M)\\r')\n",
    "        print(U)\n",
    "    U = np.array(D[:9]).reshape((3,3))\n",
    "    b1 = D[9]\n",
    "    b2 = D[10]\n",
    "    if check(SL,CL,U,b1,b2):\n",
    "        YL.append((i,U,b1,b2))"
   ]
  },
  {
   "cell_type": "code",
   "execution_count": 67,
   "metadata": {},
   "outputs": [
    {
     "data": {
      "text/plain": [
       "[(563881, array([[ 0,  2,  0],\n",
       "         [ 0, -1,  0],\n",
       "         [-1,  1,  0]]))]"
      ]
     },
     "execution_count": 67,
     "metadata": {},
     "output_type": "execute_result"
    }
   ],
   "source": [
    "YL"
   ]
  },
  {
   "cell_type": "code",
   "execution_count": 58,
   "metadata": {},
   "outputs": [
    {
     "name": "stdout",
     "output_type": "stream",
     "text": [
      "[[ 0  2  0]\n",
      " [ 0 -1  0]\n",
      " [-1  1  0]]\n"
     ]
    }
   ],
   "source": [
    "U = np.array([[0,2,0],[0,-1,0],[-1,1,0]])\n",
    "print(U)"
   ]
  },
  {
   "cell_type": "code",
   "execution_count": 59,
   "metadata": {
    "collapsed": true
   },
   "outputs": [],
   "source": [
    "PL = [SL[0]]\n",
    "for S in SL:\n",
    "    PL.append(utils.change_map(S,U))"
   ]
  },
  {
   "cell_type": "code",
   "execution_count": 62,
   "metadata": {},
   "outputs": [],
   "source": [
    "PL = PL[:-1]"
   ]
  },
  {
   "cell_type": "code",
   "execution_count": 64,
   "metadata": {},
   "outputs": [
    {
     "data": {
      "text/plain": [
       "True"
      ]
     },
     "execution_count": 64,
     "metadata": {},
     "output_type": "execute_result"
    }
   ],
   "source": [
    "check(SL,PL,U)"
   ]
  },
  {
   "cell_type": "code",
   "execution_count": null,
   "metadata": {
    "collapsed": true
   },
   "outputs": [],
   "source": []
  }
 ],
 "metadata": {
  "kernelspec": {
   "display_name": "Python 3",
   "language": "python",
   "name": "python3"
  },
  "language_info": {
   "codemirror_mode": {
    "name": "ipython",
    "version": 3
   },
   "file_extension": ".py",
   "mimetype": "text/x-python",
   "name": "python",
   "nbconvert_exporter": "python",
   "pygments_lexer": "ipython3",
   "version": "3.6.0"
  }
 },
 "nbformat": 4,
 "nbformat_minor": 2
}
